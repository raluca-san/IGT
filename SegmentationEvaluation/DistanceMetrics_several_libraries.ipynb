{
 "cells": [
  {
   "cell_type": "code",
   "execution_count": 93,
   "metadata": {
    "collapsed": true,
    "deletable": true,
    "editable": true
   },
   "outputs": [],
   "source": [
    "import numpy as np\n",
    "from medpy import metric\n",
    "import pandas as pd\n",
    "import SimpleITK as sitk\n",
    "from scipy import ndimage\n",
    "from surface import Surface\n",
    "from enum import Enum\n",
    "import matplotlib.pyplot as plt\n",
    "plt.style.use('ggplot')\n",
    "#plt.style.use('seaborn')\n",
    "#print(plt.style.available)\n",
    "from IPython.display import display, HTML\n",
    "from ipywidgets import interact, fixed\n",
    "%matplotlib inline"
   ]
  },
  {
   "cell_type": "code",
   "execution_count": 94,
   "metadata": {
    "collapsed": true,
    "deletable": true,
    "editable": true
   },
   "outputs": [],
   "source": [
    "# read some files "
   ]
  },
  {
   "cell_type": "code",
   "execution_count": 95,
   "metadata": {
    "collapsed": false,
    "deletable": true,
    "editable": true
   },
   "outputs": [
    {
     "name": "stdout",
     "output_type": "stream",
     "text": [
      "(0.900391, 0.900391, 1.0)\n",
      "(0.0, 0.0, 0.0)\n",
      "(51, 50, 47)\n"
     ]
    }
   ],
   "source": [
    "reference_segmentation = sitk.ReadImage('tumorSegm', sitk.sitkUInt8)\n",
    "segmentation = sitk.ReadImage('ablationSegm',sitk.sitkUInt8)\n",
    "print(reference_segmentation.GetSpacing())\n",
    "print(reference_segmentation.GetOrigin())\n",
    "print(reference_segmentation.GetSize())\n",
    "label = 255\n",
    "\n"
   ]
  },
  {
   "cell_type": "code",
   "execution_count": 96,
   "metadata": {
    "collapsed": true,
    "deletable": true,
    "editable": true
   },
   "outputs": [],
   "source": [
    "class SurfaceDistanceMeasuresITK(Enum):\n",
    "    hausdorff_distance, max_surface_distance, avg_surface_distance, median_surface_distance, std_surface_distance = range(5)\n",
    "\n",
    "class SurfaceDistanceMeasuresSurfacePy(Enum):\n",
    "    hausdorff_distance, avg_symmetric_surface_distance, rms_symmetric_surface_distance = range(3)\n",
    "\n",
    "class MedpyMetricDists(Enum):\n",
    "    hausdorff_distance, avg_surface_distance, avg_symmetric_surface_distance = range(3)\n"
   ]
  },
  {
   "cell_type": "code",
   "execution_count": 97,
   "metadata": {
    "collapsed": true,
    "deletable": true,
    "editable": true
   },
   "outputs": [],
   "source": [
    "surface_distance_results = np.zeros((1,len(SurfaceDistanceMeasuresITK.__members__.items())))\n",
    "surface_distance_SurfacePy = np.zeros((1,len(SurfaceDistanceMeasuresSurfacePy.__members__.items())))\n",
    "surface_dists_Medpy = np.zeros((1,len(MedpyMetricDists.__members__.items())))\n"
   ]
  },
  {
   "cell_type": "code",
   "execution_count": 98,
   "metadata": {
    "collapsed": false,
    "deletable": true,
    "editable": true
   },
   "outputs": [],
   "source": [
    "segmented_surface = sitk.LabelContour(segmentation)\n",
    "\n",
    "# init signed mauerer distance as reference metrics\n",
    "reference_distance_map = sitk.Abs(sitk.SignedMaurerDistanceMap(reference_segmentation, squaredDistance=False, useImageSpacing=True))"
   ]
  },
  {
   "cell_type": "code",
   "execution_count": 99,
   "metadata": {
    "collapsed": true,
    "deletable": true,
    "editable": true
   },
   "outputs": [],
   "source": [
    "# init label intensity statistics filter"
   ]
  },
  {
   "cell_type": "code",
   "execution_count": 100,
   "metadata": {
    "collapsed": true,
    "deletable": true,
    "editable": true
   },
   "outputs": [],
   "source": [
    "label_intensity_statistics_filter = sitk.LabelIntensityStatisticsImageFilter()\n",
    "label_intensity_statistics_filter.Execute(segmented_surface, reference_distance_map)\n",
    "\n",
    "hausdorff_distance_filter = sitk.HausdorffDistanceImageFilter()\n",
    "hausdorff_distance_filter.Execute(reference_segmentation, segmentation)"
   ]
  },
  {
   "cell_type": "markdown",
   "metadata": {
    "deletable": true,
    "editable": true
   },
   "source": [
    "SimpleITK Metrics"
   ]
  },
  {
   "cell_type": "code",
   "execution_count": 101,
   "metadata": {
    "collapsed": false,
    "deletable": true,
    "editable": true
   },
   "outputs": [],
   "source": [
    "surface_distance_results[0,SurfaceDistanceMeasuresITK.hausdorff_distance.value] = hausdorff_distance_filter.GetHausdorffDistance()\n",
    "surface_distance_results[0,SurfaceDistanceMeasuresITK.max_surface_distance.value] = label_intensity_statistics_filter.GetMaximum(label)\n",
    "surface_distance_results[0,SurfaceDistanceMeasuresITK.avg_surface_distance.value] = label_intensity_statistics_filter.GetMean(label)\n",
    "surface_distance_results[0,SurfaceDistanceMeasuresITK.median_surface_distance.value] = label_intensity_statistics_filter.GetMedian(label)\n",
    "surface_distance_results[0,SurfaceDistanceMeasuresITK.std_surface_distance.value] = label_intensity_statistics_filter.GetStandardDeviation(label)\n",
    "\n",
    "surface_distance_results_df = pd.DataFrame(data=surface_distance_results, index = list(range(1)),\n",
    "                              columns=[name for name, _ in SurfaceDistanceMeasuresITK.__members__.items()])"
   ]
  },
  {
   "cell_type": "markdown",
   "metadata": {
    "deletable": true,
    "editable": true
   },
   "source": [
    "Plot Mauerer Distances# mauerer distances from simple itk\n"
   ]
  },
  {
   "cell_type": "code",
   "execution_count": 102,
   "metadata": {
    "collapsed": false,
    "deletable": true,
    "editable": true
   },
   "outputs": [],
   "source": [
    "#fig, ax= plt.subplots()\n",
    "#plt.hist(reference_distance_map)\n",
    "#plt.title('Mauerer Distance Map')"
   ]
  },
  {
   "cell_type": "markdown",
   "metadata": {
    "deletable": true,
    "editable": true
   },
   "source": [
    "Convert Image to array to compute the metrics for other libraries"
   ]
  },
  {
   "cell_type": "code",
   "execution_count": 103,
   "metadata": {
    "collapsed": true,
    "deletable": true,
    "editable": true
   },
   "outputs": [],
   "source": [
    "img_array = sitk.GetArrayFromImage(reference_segmentation)\n",
    "seg_array = sitk.GetArrayFromImage(segmentation)\n",
    "# reverse array in the order x, y, z\n",
    "img_array_rev = np.flip(img_array,2)\n",
    "seg_array_rev = np.flip(seg_array,2)\n",
    "vxlspacing = segmentation.GetSpacing()"
   ]
  },
  {
   "cell_type": "markdown",
   "metadata": {
    "deletable": true,
    "editable": true
   },
   "source": [
    "Surface Py Library by Oskar Maier. Used in the Liver and TUMOR CT challenge semgnetation paper by Christ et. al 2017"
   ]
  },
  {
   "cell_type": "code",
   "execution_count": 104,
   "metadata": {
    "collapsed": false,
    "deletable": true,
    "editable": true
   },
   "outputs": [
    {
     "name": "stdout",
     "output_type": "stream",
     "text": [
      "17798\n",
      "4499\n"
     ]
    },
    {
     "name": "stderr",
     "output_type": "stream",
     "text": [
      "C:\\Users\\Raluca Sandu\\Documents\\IGT\\SegmentationEvaluation\\surface.py:245: FutureWarning: comparison to `None` will result in an elementwise object comparison in the future.\n",
      "  if None == self.__mask_reference_nn:\n",
      "C:\\Users\\Raluca Sandu\\Documents\\IGT\\SegmentationEvaluation\\surface.py:264: FutureWarning: comparison to `None` will result in an elementwise object comparison in the future.\n",
      "  if None == self.__reference_mask_nn:\n"
     ]
    }
   ],
   "source": [
    "if np.count_nonzero(img_array)==0 or np.count_nonzero(seg_array)==0:\n",
    "    surface_distance_SurfacePy[0,SurfaceDistanceMeasuresSurfacePy.hausdorff_distance.value] = 0\n",
    "    surface_distance_SurfacePy[0,SurfaceDistanceMeasuresSurfacePy.avg_surface_distance.value] = 0\n",
    "    surface_distance_SurfacePy[0,SurfaceDistanceMeasuresSurfacePy.rms_surface_distance.value] = 0\n",
    "\n",
    "else:\n",
    "    evalsurf = Surface(seg_array_rev,img_array_rev, physical_voxel_spacing = vxlspacing , mask_offset = [0.,0.,0.], reference_offset = [0.,0.,0.])\n",
    "    surface_distance_SurfacePy[0,SurfaceDistanceMeasuresSurfacePy.hausdorff_distance.value] = evalsurf.get_maximum_symmetric_surface_distance()\n",
    "    surface_distance_SurfacePy[0,SurfaceDistanceMeasuresSurfacePy.avg_symmetric_surface_distance.value] = evalsurf.get_average_symmetric_surface_distance()\n",
    "    surface_distance_SurfacePy[0,SurfaceDistanceMeasuresSurfacePy.rms_symmetric_surface_distance.value]= evalsurf.get_root_mean_square_symmetric_surface_distance()\n",
    "\n",
    "surface_distance_SurfacePY_df = pd.DataFrame(data=surface_distance_SurfacePy, index = list(range(1)),\n",
    "                              columns=[name for name, _ in SurfaceDistanceMeasuresSurfacePy.__members__.items()])"
   ]
  },
  {
   "cell_type": "code",
   "execution_count": 105,
   "metadata": {
    "collapsed": false,
    "deletable": true,
    "editable": true
   },
   "outputs": [
    {
     "data": {
      "text/plain": [
       "<matplotlib.text.Text at 0x17ff7f90f60>"
      ]
     },
     "execution_count": 105,
     "metadata": {},
     "output_type": "execute_result"
    },
    {
     "data": {
      "image/png": "[encoded data removed]",
      "text/plain": [
       "<matplotlib.figure.Figure at 0x17ff76af160>"
      ]
     },
     "metadata": {},
     "output_type": "display_data"
    },
    {
     "data": {
      "image/png": "[encoded data removed]",
      "text/plain": [
       "<matplotlib.figure.Figure at 0x17ff7e75e80>"
      ]
     },
     "metadata": {},
     "output_type": "display_data"
    }
   ],
   "source": [
    "segmented_surface_float = sitk.GetArrayFromImage(segmented_surface)\n",
    "reference_distance_map_float = sitk.GetArrayFromImage(reference_distance_map)\n",
    "dists_to_plot = segmented_surface_float * reference_distance_map_float\n",
    "fig1, ax1= plt.subplots()\n",
    "z = int(np.floor(np.shape(dists_to_plot)[0]/2))\n",
    "plt.imshow(dists_to_plot[z,:,:])\n",
    "plt.title(' Distance Map. 1 Slice Visualization')\n",
    "\n",
    "ix = dists_to_plot.nonzero()\n",
    "dists_nonzero = dists_to_plot[ix]\n",
    "fig3, ax3 = plt.subplots()\n",
    "plt.hist(dists_nonzero/255)\n",
    "plt.title('Histogram Mauerer Distances')"
   ]
  },
  {
   "cell_type": "code",
   "execution_count": 106,
   "metadata": {
    "collapsed": false,
    "deletable": true,
    "editable": true
   },
   "outputs": [
    {
     "name": "stderr",
     "output_type": "stream",
     "text": [
      "C:\\Users\\Raluca Sandu\\Documents\\IGT\\SegmentationEvaluation\\surface.py:264: FutureWarning: comparison to `None` will result in an elementwise object comparison in the future.\n",
      "  if None == self.__reference_mask_nn:\n"
     ]
    },
    {
     "data": {
      "text/plain": [
       "<matplotlib.text.Text at 0x17ff7d42be0>"
      ]
     },
     "execution_count": 106,
     "metadata": {},
     "output_type": "execute_result"
    },
    {
     "data": {
      "image/png": "[encoded data removed]",
      "text/plain": [
       "<matplotlib.figure.Figure at 0x17ff7804a20>"
      ]
     },
     "metadata": {},
     "output_type": "display_data"
    }
   ],
   "source": [
    "dists_refImgtoMask = evalsurf.get_reference_mask_nn()\n",
    "fig1, ax= plt.subplots()\n",
    "plt.hist(dists_refImgtoMask)\n",
    "plt.title('18-Neighbourhood NN Euclidean Distances') \n"
   ]
  },
  {
   "cell_type": "markdown",
   "metadata": {
    "deletable": true,
    "editable": true
   },
   "source": [
    "MedPy metrics library also by Oskar Maier. Github: https://github.com/loli/medpy"
   ]
  },
  {
   "cell_type": "code",
   "execution_count": 107,
   "metadata": {
    "collapsed": false,
    "deletable": true,
    "editable": true
   },
   "outputs": [],
   "source": [
    "#ct = [[[0, 1, 0], [[1, 1, 1],  [[0, 1, 0],\n",
    "#  [1, 1, 1],  [1, 1, 1],   [1, 1, 1],\n",
    " #[0, 1, 0]], [1, 1, 1]],  [0, 1, 0]]]\n",
    "    # parameter for surface distance metrics with Medpy: connectivity=ct\n",
    "\n",
    "surface_dists_Medpy[0,MedpyMetricDists.hausdorff_distance.value] = metric.binary.hd(seg_array_rev,img_array_rev, voxelspacing=vxlspacing)\n",
    "surface_dists_Medpy[0,MedpyMetricDists.avg_surface_distance.value] = metric.binary.asd(seg_array_rev,img_array_rev, voxelspacing=vxlspacing)\n",
    "surface_dists_Medpy[0,MedpyMetricDists.avg_symmetric_surface_distance.value] = metric.binary.assd(seg_array_rev,img_array_rev, voxelspacing=vxlspacing)\n"
   ]
  },
  {
   "cell_type": "code",
   "execution_count": 108,
   "metadata": {
    "collapsed": true,
    "deletable": true,
    "editable": true
   },
   "outputs": [],
   "source": [
    "# convert to DataFrame\n",
    "surface_dists_Medpy_df = pd.DataFrame(data=surface_dists_Medpy, index = list(range(1)),\n",
    "                              columns=[name for name, _ in MedpyMetricDists.__members__.items()])\n"
   ]
  },
  {
   "cell_type": "code",
   "execution_count": 109,
   "metadata": {
    "collapsed": true,
    "deletable": true,
    "editable": true
   },
   "outputs": [],
   "source": [
    "np.set_printoptions(precision=3)"
   ]
  },
  {
   "cell_type": "code",
   "execution_count": 110,
   "metadata": {
    "collapsed": false,
    "deletable": true,
    "editable": true,
    "scrolled": true
   },
   "outputs": [
    {
     "name": "stdout",
     "output_type": "stream",
     "text": [
      "Simple ITK Library\n"
     ]
    },
    {
     "data": {
      "text/html": [
       "<table border=\"1\" class=\"dataframe\">\n",
       "  <thead>\n",
       "    <tr style=\"text-align: right;\">\n",
       "      <th></th>\n",
       "      <th>hausdorff_distance</th>\n",
       "      <th>max_surface_distance</th>\n",
       "      <th>avg_surface_distance</th>\n",
       "      <th>median_surface_distance</th>\n",
       "      <th>std_surface_distance</th>\n",
       "    </tr>\n",
       "  </thead>\n",
       "  <tbody>\n",
       "    <tr>\n",
       "      <th>0</th>\n",
       "      <td>21.191</td>\n",
       "      <td>21.191</td>\n",
       "      <td>7.741</td>\n",
       "      <td>6.141</td>\n",
       "      <td>5.886</td>\n",
       "    </tr>\n",
       "  </tbody>\n",
       "</table>"
      ],
      "text/plain": [
       "<IPython.core.display.HTML object>"
      ]
     },
     "metadata": {},
     "output_type": "display_data"
    },
    {
     "name": "stdout",
     "output_type": "stream",
     "text": [
      "Surface Py Results\n"
     ]
    },
    {
     "data": {
      "text/html": [
       "<table border=\"1\" class=\"dataframe\">\n",
       "  <thead>\n",
       "    <tr style=\"text-align: right;\">\n",
       "      <th></th>\n",
       "      <th>hausdorff_distance</th>\n",
       "      <th>avg_symmetric_surface_distance</th>\n",
       "      <th>rms_symmetric_surface_distance</th>\n",
       "    </tr>\n",
       "  </thead>\n",
       "  <tbody>\n",
       "    <tr>\n",
       "      <th>0</th>\n",
       "      <td>21.949</td>\n",
       "      <td>5.316</td>\n",
       "      <td>7.795</td>\n",
       "    </tr>\n",
       "  </tbody>\n",
       "</table>"
      ],
      "text/plain": [
       "<IPython.core.display.HTML object>"
      ]
     },
     "metadata": {},
     "output_type": "display_data"
    },
    {
     "name": "stdout",
     "output_type": "stream",
     "text": [
      "MedPy Library\n"
     ]
    },
    {
     "data": {
      "text/html": [
       "<table border=\"1\" class=\"dataframe\">\n",
       "  <thead>\n",
       "    <tr style=\"text-align: right;\">\n",
       "      <th></th>\n",
       "      <th>hausdorff_distance</th>\n",
       "      <th>avg_surface_distance</th>\n",
       "      <th>avg_symmetric_surface_distance</th>\n",
       "    </tr>\n",
       "  </thead>\n",
       "  <tbody>\n",
       "    <tr>\n",
       "      <th>0</th>\n",
       "      <td>21.949</td>\n",
       "      <td>7.846</td>\n",
       "      <td>5.004</td>\n",
       "    </tr>\n",
       "  </tbody>\n",
       "</table>"
      ],
      "text/plain": [
       "<IPython.core.display.HTML object>"
      ]
     },
     "metadata": {},
     "output_type": "display_data"
    },
    {
     "data": {
      "text/plain": [
       "<matplotlib.legend.Legend at 0x17ff635ad68>"
      ]
     },
     "execution_count": 110,
     "metadata": {},
     "output_type": "execute_result"
    },
    {
     "data": {
      "image/png": "[encoded data removed]",
      "text/plain": [
       "<matplotlib.figure.Figure at 0x17ff7afbf60>"
      ]
     },
     "metadata": {},
     "output_type": "display_data"
    },
    {
     "data": {
      "image/png": "[encoded data removed]",
      "text/plain": [
       "<matplotlib.figure.Figure at 0x17ff635a198>"
      ]
     },
     "metadata": {},
     "output_type": "display_data"
    },
    {
     "data": {
      "image/png": "[encoded data removed]",
      "text/plain": [
       "<matplotlib.figure.Figure at 0x17ff7c2fb70>"
      ]
     },
     "metadata": {},
     "output_type": "display_data"
    }
   ],
   "source": [
    "print('Simple ITK Library')\n",
    "display(HTML(surface_distance_results_df.to_html(float_format=lambda x: '%.3f' % x)))\n",
    "print('Surface Py Results')\n",
    "display(HTML(surface_distance_SurfacePY_df.to_html(float_format=lambda x: '%.3f' % x)))\n",
    "print('MedPy Library')\n",
    "display(HTML(surface_dists_Medpy_df.to_html(float_format=lambda x: '%.3f' % x)))\n",
    "surface_distance_results_df.plot(kind='bar').legend(bbox_to_anchor=(1.6,0.9))\n",
    "surface_distance_SurfacePY_df.plot(kind='bar').legend(bbox_to_anchor=(1.6,0.9))\n",
    "surface_dists_Medpy_df.plot(kind='bar').legend(bbox_to_anchor=(1.6,0.9))"
   ]
  },
  {
   "cell_type": "code",
   "execution_count": null,
   "metadata": {
    "collapsed": true,
    "deletable": true,
    "editable": true
   },
   "outputs": [],
   "source": [
    "\n",
    "\n"
   ]
  },
  {
   "cell_type": "markdown",
   "metadata": {
    "deletable": true,
    "editable": true
   },
   "source": [
    " Display the data as HTML tables and graphs"
   ]
  },
  {
   "cell_type": "code",
   "execution_count": null,
   "metadata": {
    "collapsed": true,
    "deletable": true,
    "editable": true
   },
   "outputs": [],
   "source": []
  },
  {
   "cell_type": "code",
   "execution_count": null,
   "metadata": {
    "collapsed": true,
    "deletable": true,
    "editable": true
   },
   "outputs": [],
   "source": []
  }
 ],
 "metadata": {
  "kernelspec": {
   "display_name": "Python 3",
   "language": "python",
   "name": "python3"
  },
  "language_info": {
   "codemirror_mode": {
    "name": "ipython",
    "version": 3
   },
   "file_extension": ".py",
   "mimetype": "text/x-python",
   "name": "python",
   "nbconvert_exporter": "python",
   "pygments_lexer": "ipython3",
   "version": "3.6.1"
  }
 },
 "nbformat": 4,
 "nbformat_minor": 2
}
